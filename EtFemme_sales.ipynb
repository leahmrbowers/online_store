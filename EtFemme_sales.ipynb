{
 "cells": [
  {
   "cell_type": "markdown",
   "id": "6d8e35ed-56c1-4fc4-bf52-f39a9e186ead",
   "metadata": {},
   "source": [
    "<font size=\"6\">Sales at \"Et Femme\" Online Store</font>\n",
    "<br>\n",
    "<font size=\"3\">Et Femme opened up shop on Etsy in January 2021. The owner is interested in making a more robust marketing push with the holidays coming up and wants to know which customer segments to target. Client also wants to know general information about who is visitng the site, how much revenue is being generated monthly to track trends. They are also curious to see who is subscribed to their newsletter so they can better market and cater content to those customers. </font>\n",
    "<br>\n",
    "<br>\n",
    "<font size=\"3\">1. What is the store's total revenue? What revenue trends are the store seeing? What is Et Femme's average revenue per month? What are min and max dollars and time spent on the site?  What browser are  customers using? What payment method are customers using? </font>\n",
    "<br>\n",
    "<font size=\"3\">2. Who are the client's main customer segments? </font>\n",
    "<br>\n",
    "<font size=\"3\">3. Which customer segments are most likely to subscribe to the newsletter?</font>"
   ]
  },
  {
   "cell_type": "code",
   "execution_count": 1,
   "id": "19edd41f",
   "metadata": {},
   "outputs": [
    {
     "name": "stdout",
     "output_type": "stream",
     "text": [
      "Requirement already satisfied: ipython-sql in /Users/leahbowers/opt/anaconda3/lib/python3.9/site-packages (0.5.0)\n",
      "Requirement already satisfied: prettytable in /Users/leahbowers/opt/anaconda3/lib/python3.9/site-packages (from ipython-sql) (3.8.0)\n",
      "Requirement already satisfied: ipython in /Users/leahbowers/opt/anaconda3/lib/python3.9/site-packages (from ipython-sql) (8.15.0)\n",
      "Requirement already satisfied: sqlalchemy>=2.0 in /Users/leahbowers/opt/anaconda3/lib/python3.9/site-packages (from ipython-sql) (2.0.20)\n",
      "Requirement already satisfied: sqlparse in /Users/leahbowers/opt/anaconda3/lib/python3.9/site-packages (from ipython-sql) (0.4.4)\n",
      "Requirement already satisfied: six in /Users/leahbowers/opt/anaconda3/lib/python3.9/site-packages (from ipython-sql) (1.16.0)\n",
      "Requirement already satisfied: ipython-genutils in /Users/leahbowers/opt/anaconda3/lib/python3.9/site-packages (from ipython-sql) (0.2.0)\n",
      "Requirement already satisfied: typing-extensions>=4.2.0 in /Users/leahbowers/opt/anaconda3/lib/python3.9/site-packages (from sqlalchemy>=2.0->ipython-sql) (4.7.1)\n",
      "Requirement already satisfied: greenlet!=0.4.17 in /Users/leahbowers/opt/anaconda3/lib/python3.9/site-packages (from sqlalchemy>=2.0->ipython-sql) (2.0.1)\n",
      "Requirement already satisfied: backcall in /Users/leahbowers/opt/anaconda3/lib/python3.9/site-packages (from ipython->ipython-sql) (0.2.0)\n",
      "Requirement already satisfied: decorator in /Users/leahbowers/opt/anaconda3/lib/python3.9/site-packages (from ipython->ipython-sql) (5.1.1)\n",
      "Requirement already satisfied: jedi>=0.16 in /Users/leahbowers/opt/anaconda3/lib/python3.9/site-packages (from ipython->ipython-sql) (0.18.1)\n",
      "Requirement already satisfied: matplotlib-inline in /Users/leahbowers/opt/anaconda3/lib/python3.9/site-packages (from ipython->ipython-sql) (0.1.6)\n",
      "Requirement already satisfied: pickleshare in /Users/leahbowers/opt/anaconda3/lib/python3.9/site-packages (from ipython->ipython-sql) (0.7.5)\n",
      "Requirement already satisfied: prompt-toolkit!=3.0.37,<3.1.0,>=3.0.30 in /Users/leahbowers/opt/anaconda3/lib/python3.9/site-packages (from ipython->ipython-sql) (3.0.36)\n",
      "Requirement already satisfied: pygments>=2.4.0 in /Users/leahbowers/opt/anaconda3/lib/python3.9/site-packages (from ipython->ipython-sql) (2.15.1)\n",
      "Requirement already satisfied: stack-data in /Users/leahbowers/opt/anaconda3/lib/python3.9/site-packages (from ipython->ipython-sql) (0.2.0)\n",
      "Requirement already satisfied: traitlets>=5 in /Users/leahbowers/opt/anaconda3/lib/python3.9/site-packages (from ipython->ipython-sql) (5.7.1)\n",
      "Requirement already satisfied: exceptiongroup in /Users/leahbowers/opt/anaconda3/lib/python3.9/site-packages (from ipython->ipython-sql) (1.0.4)\n",
      "Requirement already satisfied: pexpect>4.3 in /Users/leahbowers/opt/anaconda3/lib/python3.9/site-packages (from ipython->ipython-sql) (4.8.0)\n",
      "Requirement already satisfied: appnope in /Users/leahbowers/opt/anaconda3/lib/python3.9/site-packages (from ipython->ipython-sql) (0.1.2)\n",
      "Requirement already satisfied: wcwidth in /Users/leahbowers/opt/anaconda3/lib/python3.9/site-packages (from prettytable->ipython-sql) (0.2.5)\n",
      "Requirement already satisfied: parso<0.9.0,>=0.8.0 in /Users/leahbowers/opt/anaconda3/lib/python3.9/site-packages (from jedi>=0.16->ipython->ipython-sql) (0.8.3)\n",
      "Requirement already satisfied: ptyprocess>=0.5 in /Users/leahbowers/opt/anaconda3/lib/python3.9/site-packages (from pexpect>4.3->ipython->ipython-sql) (0.7.0)\n",
      "Requirement already satisfied: executing in /Users/leahbowers/opt/anaconda3/lib/python3.9/site-packages (from stack-data->ipython->ipython-sql) (0.8.3)\n",
      "Requirement already satisfied: asttokens in /Users/leahbowers/opt/anaconda3/lib/python3.9/site-packages (from stack-data->ipython->ipython-sql) (2.0.5)\n",
      "Requirement already satisfied: pure-eval in /Users/leahbowers/opt/anaconda3/lib/python3.9/site-packages (from stack-data->ipython->ipython-sql) (0.2.2)\n",
      "Note: you may need to restart the kernel to use updated packages.\n"
     ]
    }
   ],
   "source": [
    "pip install ipython-sql"
   ]
  },
  {
   "cell_type": "code",
   "execution_count": 2,
   "id": "d7defe5d-8533-4174-ae6a-a9588ed033b9",
   "metadata": {},
   "outputs": [
    {
     "name": "stdout",
     "output_type": "stream",
     "text": [
      "Intel MKL WARNING: Support of Intel(R) Streaming SIMD Extensions 4.2 (Intel(R) SSE4.2) enabled only processors has been deprecated. Intel oneAPI Math Kernel Library 2025.0 will require Intel(R) Advanced Vector Extensions (Intel(R) AVX) instructions.\n",
      "Intel MKL WARNING: Support of Intel(R) Streaming SIMD Extensions 4.2 (Intel(R) SSE4.2) enabled only processors has been deprecated. Intel oneAPI Math Kernel Library 2025.0 will require Intel(R) Advanced Vector Extensions (Intel(R) AVX) instructions.\n"
     ]
    }
   ],
   "source": [
    "%load_ext sql"
   ]
  },
  {
   "cell_type": "code",
   "execution_count": 52,
   "id": "dbbf0127-d326-4527-a8d6-ade256933120",
   "metadata": {},
   "outputs": [],
   "source": [
    "import os\n",
    "import pandas as pd\n",
    "import matplotlib.pyplot as plt\n",
    "from tabulate import tabulate\n",
    "import sqlite3"
   ]
  },
  {
   "cell_type": "markdown",
   "id": "d1c42bc1-f613-4361-a899-10df401b988f",
   "metadata": {},
   "source": [
    "<font size=\"3\">Convert excel sheet(s) to SQL tables</font>"
   ]
  },
  {
   "cell_type": "code",
   "execution_count": 4,
   "id": "94a196bf",
   "metadata": {},
   "outputs": [],
   "source": [
    "# Directory containing your XLSX files\n",
    "xlsx_directory = '/Users/leahbowers/Portfolio/Online_Sales_Data/'\n",
    "\n",
    "# SQLite database file\n",
    "db_file = 'online_sales.db'\n",
    "\n",
    "# Create a SQLite database connection\n",
    "conn = sqlite3.connect(db_file)\n",
    "\n",
    "# Iterate through XLSX files in the directory\n",
    "for excel_file in os.listdir(xlsx_directory):\n",
    "    if excel_file.endswith('.xlsx'):\n",
    "        file_path = os.path.join(xlsx_directory, excel_file)\n",
    "        \n",
    "        # Read the XLSX file into a DataFrame\n",
    "        df = pd.read_excel(file_path)\n",
    "        \n",
    "        # Replace spaces and special characters in column names with underscores\n",
    "        df.columns = [c.replace(' ', '_').replace('.', '_').replace('-', '_') for c in df.columns]\n",
    "        \n",
    "        # Determine the table name (use the file name without extension)\n",
    "        table_name = os.path.splitext(excel_file)[0]\n",
    "        \n",
    "        # Write the DataFrame to the SQLite database as a new table\n",
    "        df.to_sql(table_name, conn, if_exists='replace', index=False)\n",
    "\n",
    "# Commit changes and close the database connection\n",
    "conn.commit()\n",
    "conn.close()"
   ]
  },
  {
   "cell_type": "code",
   "execution_count": 5,
   "id": "cd1b08b7-421f-42fd-8782-47e66fc16c29",
   "metadata": {},
   "outputs": [],
   "source": [
    "# Connect to Online Sales database\n",
    "%sql sqlite:///online_sales.db"
   ]
  },
  {
   "cell_type": "code",
   "execution_count": 53,
   "id": "dd901d0a",
   "metadata": {},
   "outputs": [
    {
     "name": "stdout",
     "output_type": "stream",
     "text": [
      "+--------------+\n",
      "| name         |\n",
      "|--------------|\n",
      "| online_sales |\n",
      "+--------------+\n"
     ]
    }
   ],
   "source": [
    "# Check that table was converted from xlsx and pulled into database\n",
    "conn = sqlite3.connect('online_sales.db')\n",
    "query = \"\"\"\n",
    "    SELECT \n",
    "        name \n",
    "    FROM sqlite_master \n",
    "    WHERE type='table';\n",
    "\"\"\"\n",
    "result = pd.read_sql_query(query, conn)\n",
    "print(tabulate(result, headers='keys', tablefmt='psql', showindex=False))"
   ]
  },
  {
   "cell_type": "code",
   "execution_count": 54,
   "id": "93d0f5d3",
   "metadata": {},
   "outputs": [
    {
     "name": "stdout",
     "output_type": "stream",
     "text": [
      "+-------+----------------+-----------+-----------+--------------+------+\n",
      "|   cid | name           | type      |   notnull | dflt_value   |   pk |\n",
      "|-------+----------------+-----------+-----------+--------------+------|\n",
      "|     0 | customer_id    | INTEGER   |         0 |              |    0 |\n",
      "|     1 | age            | INTEGER   |         0 |              |    0 |\n",
      "|     2 | gender         | TEXT      |         0 |              |    0 |\n",
      "|     3 | revenue_total  | REAL      |         0 |              |    0 |\n",
      "|     4 | n_purchases    | INTEGER   |         0 |              |    0 |\n",
      "|     5 | purchase_date  | TIMESTAMP |         0 |              |    0 |\n",
      "|     6 | purchase_value | REAL      |         0 |              |    0 |\n",
      "|     7 | pay_method     | TEXT      |         0 |              |    0 |\n",
      "|     8 | time_spent     | INTEGER   |         0 |              |    0 |\n",
      "|     9 | browser        | TEXT      |         0 |              |    0 |\n",
      "|    10 | newsletter     | TEXT      |         0 |              |    0 |\n",
      "|    11 | voucher        | TEXT      |         0 |              |    0 |\n",
      "+-------+----------------+-----------+-----------+--------------+------+\n"
     ]
    }
   ],
   "source": [
    "# Confirm data types are correct\n",
    "conn = sqlite3.connect('online_sales.db')\n",
    "query = \"\"\"\n",
    "    PRAGMA table_info(online_sales)\n",
    "\"\"\"\n",
    "result = pd.read_sql_query(query, conn)\n",
    "print(tabulate(result, headers='keys', tablefmt='psql', showindex=False))"
   ]
  },
  {
   "cell_type": "markdown",
   "id": "500ec913-dfd4-47c2-8f23-8699c4730358",
   "metadata": {},
   "source": [
    "<font size=\"6\">Introduction</font>"
   ]
  },
  {
   "cell_type": "code",
   "execution_count": 57,
   "id": "16bb7b86",
   "metadata": {
    "scrolled": true
   },
   "outputs": [
    {
     "data": {
      "text/html": [
       "<div>\n",
       "<style scoped>\n",
       "    .dataframe tbody tr th:only-of-type {\n",
       "        vertical-align: middle;\n",
       "    }\n",
       "\n",
       "    .dataframe tbody tr th {\n",
       "        vertical-align: top;\n",
       "    }\n",
       "\n",
       "    .dataframe thead th {\n",
       "        text-align: right;\n",
       "    }\n",
       "</style>\n",
       "<table border=\"1\" class=\"dataframe\">\n",
       "  <thead>\n",
       "    <tr style=\"text-align: right;\">\n",
       "      <th></th>\n",
       "      <th>customer_id</th>\n",
       "      <th>age</th>\n",
       "      <th>gender</th>\n",
       "      <th>revenue_total</th>\n",
       "      <th>n_purchases</th>\n",
       "      <th>purchase_date</th>\n",
       "      <th>purchase_value</th>\n",
       "      <th>pay_method</th>\n",
       "      <th>time_spent</th>\n",
       "      <th>browser</th>\n",
       "      <th>newsletter</th>\n",
       "      <th>voucher</th>\n",
       "    </tr>\n",
       "  </thead>\n",
       "  <tbody>\n",
       "    <tr>\n",
       "      <th>0</th>\n",
       "      <td>504308</td>\n",
       "      <td>53</td>\n",
       "      <td>Male</td>\n",
       "      <td>47.57</td>\n",
       "      <td>2</td>\n",
       "      <td>2021-06-22</td>\n",
       "      <td>26.16</td>\n",
       "      <td>Card</td>\n",
       "      <td>885</td>\n",
       "      <td>Chrome</td>\n",
       "      <td>not subscribed</td>\n",
       "      <td>not used</td>\n",
       "    </tr>\n",
       "    <tr>\n",
       "      <th>1</th>\n",
       "      <td>504309</td>\n",
       "      <td>18</td>\n",
       "      <td>Female</td>\n",
       "      <td>38.01</td>\n",
       "      <td>3</td>\n",
       "      <td>2021-12-10</td>\n",
       "      <td>3.04</td>\n",
       "      <td>PayPal</td>\n",
       "      <td>656</td>\n",
       "      <td>Chrome</td>\n",
       "      <td>not subscribed</td>\n",
       "      <td>used</td>\n",
       "    </tr>\n",
       "    <tr>\n",
       "      <th>2</th>\n",
       "      <td>504310</td>\n",
       "      <td>52</td>\n",
       "      <td>Female</td>\n",
       "      <td>11.13</td>\n",
       "      <td>1</td>\n",
       "      <td>2021-03-14</td>\n",
       "      <td>11.13</td>\n",
       "      <td>Digital Wallets</td>\n",
       "      <td>761</td>\n",
       "      <td>Chrome</td>\n",
       "      <td>subscribed</td>\n",
       "      <td>not used</td>\n",
       "    </tr>\n",
       "    <tr>\n",
       "      <th>3</th>\n",
       "      <td>504311</td>\n",
       "      <td>29</td>\n",
       "      <td>Male</td>\n",
       "      <td>56.81</td>\n",
       "      <td>5</td>\n",
       "      <td>2021-10-25</td>\n",
       "      <td>45.44</td>\n",
       "      <td>Card</td>\n",
       "      <td>906</td>\n",
       "      <td>Chrome</td>\n",
       "      <td>subscribed</td>\n",
       "      <td>not used</td>\n",
       "    </tr>\n",
       "    <tr>\n",
       "      <th>4</th>\n",
       "      <td>504312</td>\n",
       "      <td>21</td>\n",
       "      <td>Female</td>\n",
       "      <td>59.75</td>\n",
       "      <td>1</td>\n",
       "      <td>2021-09-14</td>\n",
       "      <td>59.75</td>\n",
       "      <td>Card</td>\n",
       "      <td>605</td>\n",
       "      <td>Chrome</td>\n",
       "      <td>subscribed</td>\n",
       "      <td>not used</td>\n",
       "    </tr>\n",
       "  </tbody>\n",
       "</table>\n",
       "</div>"
      ],
      "text/plain": [
       "   customer_id  age  gender  revenue_total  n_purchases purchase_date  \\\n",
       "0       504308   53    Male          47.57            2    2021-06-22   \n",
       "1       504309   18  Female          38.01            3    2021-12-10   \n",
       "2       504310   52  Female          11.13            1    2021-03-14   \n",
       "3       504311   29    Male          56.81            5    2021-10-25   \n",
       "4       504312   21  Female          59.75            1    2021-09-14   \n",
       "\n",
       "   purchase_value       pay_method  time_spent browser      newsletter  \\\n",
       "0           26.16             Card         885  Chrome  not subscribed   \n",
       "1            3.04           PayPal         656  Chrome  not subscribed   \n",
       "2           11.13  Digital Wallets         761  Chrome      subscribed   \n",
       "3           45.44             Card         906  Chrome      subscribed   \n",
       "4           59.75             Card         605  Chrome      subscribed   \n",
       "\n",
       "    voucher  \n",
       "0  not used  \n",
       "1      used  \n",
       "2  not used  \n",
       "3  not used  \n",
       "4  not used  "
      ]
     },
     "execution_count": 57,
     "metadata": {},
     "output_type": "execute_result"
    }
   ],
   "source": [
    "#Get preview of online_sales table\n",
    "pd.set_option('display.max_columns',None)\n",
    "sales = pd.read_excel('/Users/leahbowers/Portfolio/Online_Sales_Data/online_sales.xlsx')\n",
    "sales.head(5)"
   ]
  },
  {
   "cell_type": "code",
   "execution_count": 55,
   "id": "1ca9afa0",
   "metadata": {},
   "outputs": [
    {
     "name": "stdout",
     "output_type": "stream",
     "text": [
      "Duplicate Rows:\n",
      "Empty DataFrame\n",
      "Columns: [customer_id, age, gender, revenue_total, n_purchases, purchase_date, purchase_value, pay_method, time_spent, browser, newsletter, voucher]\n",
      "Index: []\n",
      "\n",
      "NaN (Missing Values) Count:\n",
      "+-------+----------------+-----------+-----------+--------------+------+\n",
      "|   cid | name           | type      |   notnull | dflt_value   |   pk |\n",
      "|-------+----------------+-----------+-----------+--------------+------|\n",
      "|     0 | customer_id    | INTEGER   |         0 |              |    0 |\n",
      "|     1 | age            | INTEGER   |         0 |              |    0 |\n",
      "|     2 | gender         | TEXT      |         0 |              |    0 |\n",
      "|     3 | revenue_total  | REAL      |         0 |              |    0 |\n",
      "|     4 | n_purchases    | INTEGER   |         0 |              |    0 |\n",
      "|     5 | purchase_date  | TIMESTAMP |         0 |              |    0 |\n",
      "|     6 | purchase_value | REAL      |         0 |              |    0 |\n",
      "|     7 | pay_method     | TEXT      |         0 |              |    0 |\n",
      "|     8 | time_spent     | INTEGER   |         0 |              |    0 |\n",
      "|     9 | browser        | TEXT      |         0 |              |    0 |\n",
      "|    10 | newsletter     | TEXT      |         0 |              |    0 |\n",
      "|    11 | voucher        | TEXT      |         0 |              |    0 |\n",
      "+-------+----------------+-----------+-----------+--------------+------+\n"
     ]
    }
   ],
   "source": [
    "# Check for duplicates\n",
    "duplicate_rows = sales[sales.duplicated()]\n",
    "print(\"Duplicate Rows:\")\n",
    "print(duplicate_rows)\n",
    "\n",
    "# Check for NaN (missing values)\n",
    "nan_values = sales.isna().sum()\n",
    "print(\"\\nNaN (Missing Values) Count:\")\n",
    "print(tabulate(result, headers='keys', tablefmt='psql', showindex=False))"
   ]
  },
  {
   "cell_type": "markdown",
   "id": "ced10ef7",
   "metadata": {},
   "source": [
    "<font size=\"6\">Question 1</font>"
   ]
  },
  {
   "cell_type": "markdown",
   "id": "91b2c353",
   "metadata": {},
   "source": [
    "<font size=\"3\">**What is the store's total revenue? What revenue trends are the store seeing? What is Et Femme's average revenue per month? What are min and max dollars and time spent on the site?  What browser are  customers using? What payment method are customers using?**</font>\n",
    "<br>\n",
    "<font size=\"3\">To date, Et Femme has brought in **1.9M dollars in total revenue**. Montly revenue trends show **January, December, and October** as having the highest revenue generated from online sales. The least amount of revenue is generated in February.</font>"
   ]
  },
  {
   "cell_type": "code",
   "execution_count": 58,
   "id": "7fa8b0a1",
   "metadata": {},
   "outputs": [
    {
     "name": "stdout",
     "output_type": "stream",
     "text": [
      "+-----------------+\n",
      "|   total_revenue |\n",
      "|-----------------|\n",
      "|     1.91616e+06 |\n",
      "+-----------------+\n"
     ]
    }
   ],
   "source": [
    "#Get total revenue across store\n",
    "conn = sqlite3.connect('online_sales.db')\n",
    "query = \"\"\"\n",
    "    SELECT\n",
    "        ROUND(SUM(revenue_total),2) AS total_revenue\n",
    "    FROM\n",
    "        online_sales;\n",
    "\"\"\"\n",
    "result = pd.read_sql_query(query, conn)\n",
    "print(tabulate(result, headers='keys', tablefmt='psql', showindex=False))"
   ]
  },
  {
   "cell_type": "code",
   "execution_count": 59,
   "id": "f1757f18",
   "metadata": {},
   "outputs": [
    {
     "name": "stdout",
     "output_type": "stream",
     "text": [
      "+--------------+-----------------+\n",
      "| month_name   |   total_revenue |\n",
      "|--------------+-----------------|\n",
      "| January      |          167988 |\n",
      "| December     |          165328 |\n",
      "| October      |          163148 |\n",
      "| August       |          162621 |\n",
      "| May          |          161958 |\n",
      "| March        |          160703 |\n",
      "| July         |          159261 |\n",
      "| September    |          159148 |\n",
      "| April        |          158201 |\n",
      "| June         |          157512 |\n",
      "| November     |          155372 |\n",
      "| February     |          144919 |\n",
      "+--------------+-----------------+\n"
     ]
    }
   ],
   "source": [
    "#Get total revenue per month\n",
    "conn = sqlite3.connect('online_sales.db')\n",
    "query = \"\"\"\n",
    "    SELECT\n",
    "    CASE\n",
    "        WHEN strftime('%m', purchase_date) = '01' THEN 'January'\n",
    "        WHEN strftime('%m', purchase_date) = '02' THEN 'February'\n",
    "        WHEN strftime('%m', purchase_date) = '03' THEN 'March'\n",
    "        WHEN strftime('%m', purchase_date) = '04' THEN 'April'\n",
    "        WHEN strftime('%m', purchase_date) = '05' THEN 'May'\n",
    "        WHEN strftime('%m', purchase_date) = '06' THEN 'June'\n",
    "        WHEN strftime('%m', purchase_date) = '07' THEN 'July'\n",
    "        WHEN strftime('%m', purchase_date) = '08' THEN 'August'\n",
    "        WHEN strftime('%m', purchase_date) = '09' THEN 'September'\n",
    "        WHEN strftime('%m', purchase_date) = '10' THEN 'October'\n",
    "        WHEN strftime('%m', purchase_date) = '11' THEN 'November'\n",
    "        WHEN strftime('%m', purchase_date) = '12' THEN 'December'\n",
    "    END AS month_name,\n",
    "    ROUND(SUM(revenue_total), 2) AS total_revenue\n",
    "FROM\n",
    "    online_sales\n",
    "GROUP BY month_name\n",
    "ORDER BY total_revenue DESC;\n",
    "\"\"\"\n",
    "result = pd.read_sql_query(query, conn)\n",
    "print(tabulate(result, headers='keys', tablefmt='psql', showindex=False))"
   ]
  },
  {
   "cell_type": "code",
   "execution_count": 8,
   "id": "76ad2180",
   "metadata": {},
   "outputs": [
    {
     "data": {
      "text/plain": [
       "Text(0, 0.5, 'Total Revenue')"
      ]
     },
     "execution_count": 8,
     "metadata": {},
     "output_type": "execute_result"
    },
    {
     "data": {
      "image/png": "[encoded data removed]",
      "text/plain": [
       "<Figure size 720x432 with 1 Axes>"
      ]
     },
     "metadata": {
      "needs_background": "light"
     },
     "output_type": "display_data"
    }
   ],
   "source": [
    "conn = sqlite3.connect('online_sales.db')\n",
    "query = \"\"\"\n",
    "    SELECT \n",
    "        strftime('%m', purchase_date) AS month, ROUND(SUM(revenue_total),2) AS total_revenue \n",
    "    FROM online_sales \n",
    "    GROUP BY strftime('%m', purchase_date) \n",
    "    ORDER BY month;\"\"\"\n",
    "result = pd.read_sql_query(query, conn)\n",
    "\n",
    "month_names = {\n",
    "    '01': 'Jan',\n",
    "    '02': 'Feb',\n",
    "    '03': 'Mar',\n",
    "    '04': 'Apr',\n",
    "    '05': 'May',\n",
    "    '06': 'Jun',\n",
    "    '07': 'Jul',\n",
    "    '08': 'Aug',\n",
    "    '09': 'Sep',\n",
    "    '10': 'Oct',\n",
    "    '11': 'Nov',\n",
    "    '12': 'Dec'\n",
    "}\n",
    "result['month'] = result['month'].map(month_names)\n",
    "\n",
    "plt.figure(figsize=(10, 6))\n",
    "plt.bar(result['month'], result['total_revenue'], color=['#fe938c', '#edaf97', '#c49792', '#ad91a3'])\n",
    "plt.title('Total Revenue by Month Shows Strongest Earnings in January and Weakest in February', fontsize = 16)\n",
    "plt.xlabel('Month',fontsize = 14)\n",
    "plt.ylabel('Total Revenue',fontsize = 14)"
   ]
  },
  {
   "cell_type": "markdown",
   "id": "8022b7e2",
   "metadata": {},
   "source": [
    "<font size=\"3\">Et Femme brings in an average of **\\\\$159,679  in revenue per month**. There is a **16% difference** between the highest revenue and lowest revenue months. </font>"
   ]
  },
  {
   "cell_type": "code",
   "execution_count": 62,
   "id": "cc7e27c4",
   "metadata": {},
   "outputs": [
    {
     "name": "stdout",
     "output_type": "stream",
     "text": [
      "+-------------------+---------------------+\n",
      "|   average_revenue |   perc_diff_revenue |\n",
      "|-------------------+---------------------|\n",
      "|            159680 |               15.92 |\n",
      "+-------------------+---------------------+\n"
     ]
    }
   ],
   "source": [
    "#Get average revenue per month and % difference in month with maximum revenue compared to that with least revenue\n",
    "conn = sqlite3.connect('online_sales.db')\n",
    "query = \"\"\"\n",
    "    WITH monthly_revenue AS (\n",
    "    SELECT\n",
    "        strftime('%m', purchase_date) AS month,\n",
    "        ROUND(SUM(revenue_total), 2) AS total_revenue\n",
    "    FROM\n",
    "        online_sales\n",
    "    GROUP BY strftime('%m', purchase_date)\n",
    "    ORDER BY total_revenue DESC\n",
    ")\n",
    "\n",
    "SELECT\n",
    "    ROUND(AVG(total_revenue), 2) AS average_revenue,\n",
    "    ROUND(((MAX(total_revenue) - MIN(total_revenue)) / MIN(total_revenue) * 100), 2) AS perc_diff_revenue\n",
    "FROM\n",
    "    monthly_revenue;\n",
    "\"\"\"\n",
    "result = pd.read_sql_query(query, conn)\n",
    "print(tabulate(result, headers='keys', tablefmt='psql', showindex=False))"
   ]
  },
  {
   "cell_type": "markdown",
   "id": "e4543f6e",
   "metadata": {},
   "source": [
    "<font size=\"3\">The **most spent** by any one customer is **\\\\$63** and the **least** is **\\\\$0.53**. The **average** revenue spent is **\\\\$29**.</font>"
   ]
  },
  {
   "cell_type": "code",
   "execution_count": 63,
   "id": "d62c53d6",
   "metadata": {},
   "outputs": [
    {
     "name": "stdout",
     "output_type": "stream",
     "text": [
      "+---------------+---------------+---------------+\n",
      "|   min_revenue |   max_revenue |   avg_revenue |\n",
      "|---------------+---------------+---------------|\n",
      "|          0.53 |          62.9 |         29.12 |\n",
      "+---------------+---------------+---------------+\n"
     ]
    }
   ],
   "source": [
    "#Get maximum, minimum, and average dollars spent in store\n",
    "conn = sqlite3.connect('online_sales.db')\n",
    "query = \"\"\"\n",
    "    SELECT\n",
    "        MIN(revenue_total) AS min_revenue,\n",
    "        MAX(revenue_total) AS max_revenue,\n",
    "        ROUND(AVG(revenue_total),2) AS avg_revenue\n",
    "    FROM\n",
    "        online_sales;\n",
    "\"\"\"\n",
    "result = pd.read_sql_query(query, conn)\n",
    "print(tabulate(result, headers='keys', tablefmt='psql', showindex=False))"
   ]
  },
  {
   "cell_type": "markdown",
   "id": "c0eb7f14-b7f1-4876-958c-9c50de7c4758",
   "metadata": {},
   "source": [
    "<font size=\"3\">Customers spend between **2 to 18 minutes** on the website. They spend an **average of 10 minutes** the site.</font>"
   ]
  },
  {
   "cell_type": "code",
   "execution_count": 64,
   "id": "1b9033a0",
   "metadata": {},
   "outputs": [
    {
     "name": "stdout",
     "output_type": "stream",
     "text": [
      "+------------+------------+------------+\n",
      "|   min_time |   max_time |   avg_time |\n",
      "|------------+------------+------------|\n",
      "|          2 |         18 |       9.98 |\n",
      "+------------+------------+------------+\n"
     ]
    }
   ],
   "source": [
    "#Get maximum, minimum, and average time spent in store\n",
    "conn = sqlite3.connect('online_sales.db')\n",
    "query = \"\"\"\n",
    "    SELECT\n",
    "        MIN(time_spent)/60 AS min_time,\n",
    "        MAX(time_spent)/60 AS max_time,\n",
    "        ROUND(AVG(time_spent)/60,2) AS avg_time\n",
    "    FROM\n",
    "        online_sales;\n",
    "\"\"\"\n",
    "result = pd.read_sql_query(query, conn)\n",
    "print(tabulate(result, headers='keys', tablefmt='psql', showindex=False))"
   ]
  },
  {
   "cell_type": "markdown",
   "id": "7b2fde9f",
   "metadata": {},
   "source": [
    "<font size=\"3\">**Chrome is used by 60%** of customers. **Safari** is used only **20%**. Edge and Other browsers make up **15%** of usage.</font>"
   ]
  },
  {
   "cell_type": "code",
   "execution_count": 65,
   "id": "b1ed62f1",
   "metadata": {},
   "outputs": [
    {
     "name": "stdout",
     "output_type": "stream",
     "text": [
      "+-----------+--------------+----------------+\n",
      "| browser   |   ct_browser |   perc_browser |\n",
      "|-----------+--------------+----------------|\n",
      "| Chrome    |        42076 |          63.95 |\n",
      "| Safari    |        13135 |          19.96 |\n",
      "| Other     |         7208 |          10.96 |\n",
      "| Edge      |         3377 |           5.13 |\n",
      "+-----------+--------------+----------------+\n"
     ]
    }
   ],
   "source": [
    "#Segment customers by browsers used\n",
    "conn = sqlite3.connect('online_sales.db')\n",
    "query = \"\"\"\n",
    "    SELECT \n",
    "        browser,\n",
    "        COUNT(browser) AS ct_browser,\n",
    "        ROUND((COUNT(browser) * 100.0 / (SELECT COUNT(*) FROM online_sales)),2) AS perc_browser\n",
    "    FROM\n",
    "        online_sales\n",
    "    GROUP BY browser\n",
    "    ORDER BY ct_browser DESC;\n",
    "\"\"\"\n",
    "result = pd.read_sql_query(query, conn)\n",
    "print(tabulate(result, headers='keys', tablefmt='psql', showindex=False))"
   ]
  },
  {
   "cell_type": "code",
   "execution_count": 58,
   "id": "f400fb38",
   "metadata": {},
   "outputs": [
    {
     "data": {
      "text/plain": [
       "Text(0.5, 1.0, 'Chrome is the Preferred Browser for Et Femme Shoppers')"
      ]
     },
     "execution_count": 58,
     "metadata": {},
     "output_type": "execute_result"
    },
    {
     "data": {
      "image/png": "[encoded data removed]",
      "text/plain": [
       "<Figure size 432x288 with 1 Axes>"
      ]
     },
     "metadata": {},
     "output_type": "display_data"
    }
   ],
   "source": [
    "ax = sales['browser'].value_counts(normalize=True).plot(\n",
    "    kind='pie',\n",
    "    autopct='%1.1f%%',\n",
    "    ylabel=' ',\n",
    "    shadow=True,\n",
    "    legend=True,\n",
    "    colors=['#fe938c', '#edaf97', '#c49792', '#ad91a3'],\n",
    "    fontsize=12\n",
    ")\n",
    "\n",
    "ax.set_title('Chrome is the Preferred Browser for Et Femme Shoppers', fontsize=14)"
   ]
  },
  {
   "cell_type": "markdown",
   "id": "cc5c38aa",
   "metadata": {},
   "source": [
    "<font size=\"3\">Customers prefer to **pay by card (30%)** and **digital wallets (28%)**. **Paypal** is used by **22%** of customers and **18% use other payment methods**.</font>"
   ]
  },
  {
   "cell_type": "code",
   "execution_count": 66,
   "id": "3a23c60a",
   "metadata": {},
   "outputs": [
    {
     "name": "stdout",
     "output_type": "stream",
     "text": [
      "+-----------------+-----------------+-------------------+\n",
      "| pay_method      |   ct_pay_method |   perc_pay_method |\n",
      "|-----------------+-----------------+-------------------|\n",
      "| Card            |           19754 |                30 |\n",
      "| Digital Wallets |           19075 |                28 |\n",
      "| PayPal          |           14551 |                22 |\n",
      "| Other           |           12416 |                18 |\n",
      "+-----------------+-----------------+-------------------+\n"
     ]
    }
   ],
   "source": [
    "#Segment customers by payment method used\n",
    "conn = sqlite3.connect('online_sales.db')\n",
    "query = \"\"\"\n",
    "    SELECT \n",
    "        pay_method,\n",
    "        COUNT(pay_method) AS ct_pay_method,\n",
    "        ROUND((COUNT(pay_method)*100/ (SELECT COUNT(*) FROM online_sales)),2) AS perc_pay_method\n",
    "    FROM\n",
    "        online_sales\n",
    "    GROUP BY pay_method\n",
    "    ORDER BY ct_pay_method DESC;\n",
    "\"\"\"\n",
    "result = pd.read_sql_query(query, conn)\n",
    "print(tabulate(result, headers='keys', tablefmt='psql', showindex=False))"
   ]
  },
  {
   "cell_type": "code",
   "execution_count": 51,
   "id": "be5ec1ca",
   "metadata": {},
   "outputs": [
    {
     "data": {
      "text/plain": [
       "(array([0, 1, 2, 3]),\n",
       " [Text(0, 0, 'Card'),\n",
       "  Text(1, 0, 'Digital Wallets'),\n",
       "  Text(2, 0, 'PayPal'),\n",
       "  Text(3, 0, 'Other')])"
      ]
     },
     "execution_count": 51,
     "metadata": {},
     "output_type": "execute_result"
    },
    {
     "data": {
      "image/png": "[encoded data removed]",
      "text/plain": [
       "<Figure size 432x288 with 1 Axes>"
      ]
     },
     "metadata": {
      "needs_background": "light"
     },
     "output_type": "display_data"
    }
   ],
   "source": [
    "ax = sales['pay_method'].value_counts().plot(\n",
    "    kind='bar', \n",
    "    color=['#fe938c', '#edaf97', '#c49792', '#ad91a3'])\n",
    "ax.set_title(\"Cards and Digital Wallets Used for More Than 50% of Online Transactions\", fontsize=16)\n",
    "ax.set_xlabel('Payment Method', fontsize=14)\n",
    "ax.set_ylabel('Transactions', fontsize=14)\n",
    "plt.xticks(rotation=45)"
   ]
  },
  {
   "cell_type": "markdown",
   "id": "3e3ad06d-7dec-45e6-a471-b09f17bfa489",
   "metadata": {},
   "source": [
    "<font size=\"6\">Question 2</font>\n",
    "<br>\n",
    "<font size=\"3\">**Who are the client's main customer segments?**</font>\n",
    "<br>\n",
    "<font size=\"3\">People **ages 16 to 63** shop at Et Femme. **Women contribute 67%** of Et Femme's revenue. Specifically, **women aged 45-54, 35-44, and 24-34** are the client's top three customer segments. **Men between 55 - 64 contribute least** to the client's total revenue. </font>"
   ]
  },
  {
   "cell_type": "code",
   "execution_count": 67,
   "id": "8d36a237",
   "metadata": {},
   "outputs": [
    {
     "name": "stdout",
     "output_type": "stream",
     "text": [
      "+-----------+-----------+\n",
      "|   min_age |   max_age |\n",
      "|-----------+-----------|\n",
      "|        16 |        63 |\n",
      "+-----------+-----------+\n"
     ]
    }
   ],
   "source": [
    "#Get minimum and maximum ages of customers\n",
    "conn = sqlite3.connect('online_sales.db')\n",
    "query = \"\"\"\n",
    "    SELECT \n",
    "        MIN(age) AS min_age,\n",
    "        MAX(age) AS max_age\n",
    "    FROM online_sales;\n",
    "\"\"\"\n",
    "result = pd.read_sql_query(query, conn)\n",
    "print(tabulate(result, headers='keys', tablefmt='psql', showindex=False))"
   ]
  },
  {
   "cell_type": "code",
   "execution_count": 68,
   "id": "d912e4a8",
   "metadata": {},
   "outputs": [
    {
     "name": "stdout",
     "output_type": "stream",
     "text": [
      "+----------+------------------+----------------+\n",
      "| gender   |    total_revenue |   perc_revenue |\n",
      "|----------+------------------+----------------|\n",
      "| Female   |      1.28592e+06 |          67.11 |\n",
      "| Male     | 630237           |          32.89 |\n",
      "+----------+------------------+----------------+\n"
     ]
    }
   ],
   "source": [
    "#Determine total revenue generated by female and male customers and calculate the percentage of revenue for each\n",
    "conn = sqlite3.connect('online_sales.db')\n",
    "query = \"\"\"\n",
    "    SELECT \n",
    "        gender,\n",
    "        ROUND(SUM(revenue_total),2) AS total_revenue,\n",
    "        ROUND((SUM(revenue_total) * 100 / (SELECT SUM(revenue_total) FROM online_sales)), 2) AS perc_revenue\n",
    "    FROM online_sales\n",
    "    GROUP BY gender\n",
    "    ORDER BY total_revenue DESC;\n",
    "\"\"\"\n",
    "result = pd.read_sql_query(query, conn)\n",
    "print(tabulate(result, headers='keys', tablefmt='psql', showindex=False))"
   ]
  },
  {
   "cell_type": "code",
   "execution_count": 23,
   "id": "2c38b605",
   "metadata": {},
   "outputs": [
    {
     "data": {
      "text/plain": [
       "Text(0.5, 1.0, 'Women Comprise 67% of Et Femme Customer Base')"
      ]
     },
     "execution_count": 23,
     "metadata": {},
     "output_type": "execute_result"
    },
    {
     "data": {
      "image/png": "[encoded data removed]",
      "text/plain": [
       "<Figure size 300x300 with 1 Axes>"
      ]
     },
     "metadata": {},
     "output_type": "display_data"
    }
   ],
   "source": [
    "conn = sqlite3.connect('online_sales.db')\n",
    "query = \"\"\"\n",
    "    SELECT \n",
    "        gender,\n",
    "        ROUND(SUM(revenue_total),2) AS total_revenue,\n",
    "        ROUND((SUM(revenue_total) * 100 / (SELECT SUM(revenue_total) FROM online_sales)), 2) AS perc_revenue\n",
    "    FROM online_sales\n",
    "    GROUP BY gender\n",
    "    ORDER BY total_revenue DESC;\n",
    "\"\"\"\n",
    "result = pd.read_sql_query(query, conn)\n",
    "\n",
    "plt.figure(figsize=(3, 3))\n",
    "labels = result['gender']\n",
    "sizes = result['total_revenue']\n",
    "colors = ['#fe938c', '#ad91a3']\n",
    "explode = (0.1, 0)\n",
    "\n",
    "plt.pie(sizes, labels=labels, autopct='%1.1f%%', colors=colors, explode=explode, textprops={'fontsize': 10})\n",
    "plt.title('Women Comprise 67% of Et Femme Customer Base', fontsize=12)"
   ]
  },
  {
   "cell_type": "code",
   "execution_count": 69,
   "id": "776d43ce",
   "metadata": {},
   "outputs": [
    {
     "name": "stdout",
     "output_type": "stream",
     "text": [
      "+----------+--------------+----------------+-------------------+-----------------+----------------+\n",
      "| gender   | age_groups   |   ct_customers |   total_purchases |   total_revenue |   perc_revenue |\n",
      "|----------+--------------+----------------+-------------------+-----------------+----------------|\n",
      "| Female   | 45 - 54      |           9387 |             37301 |          272152 |          14.2  |\n",
      "| Female   | 35 - 44      |           9134 |             36567 |          267745 |          13.97 |\n",
      "| Female   | 25 - 34      |           9206 |             37166 |          267576 |          13.96 |\n",
      "| Female   | 55 - 64      |           8318 |             33091 |          242433 |          12.65 |\n",
      "| Female   | 16 - 24      |           8127 |             32322 |          236015 |          12.32 |\n",
      "| Male     | 45 - 54      |           4600 |             18080 |          135138 |           7.05 |\n",
      "| Male     | 35 - 44      |           4550 |             18320 |          131421 |           6.86 |\n",
      "| Male     | 25 - 34      |           4498 |             18189 |          131073 |           6.84 |\n",
      "| Male     | 16 - 24      |           3990 |             15824 |          116886 |           6.1  |\n",
      "| Male     | 55 - 64      |           3986 |             15829 |          115718 |           6.04 |\n",
      "+----------+--------------+----------------+-------------------+-----------------+----------------+\n"
     ]
    }
   ],
   "source": [
    "#Segment customers by age and gender and determine how many customers are in each segment, \n",
    "#number of purchases, the total revenue and percentage of the total revenue each segment contributed\n",
    "pd.set_option('display.max_columns', None)  # Display all columns\n",
    "pd.set_option('display.max_colwidth', None)  # Display full column content without truncation\n",
    "\n",
    "conn = sqlite3.connect('online_sales.db')\n",
    "query = \"\"\"\n",
    "    SELECT \n",
    "        gender,\n",
    "        (CASE \n",
    "             WHEN age BETWEEN 16 and 24 THEN '16 - 24'\n",
    "             WHEN age BETWEEN 25 and 34 THEN '25 - 34'\n",
    "             WHEN age BETWEEN 35 and 44 THEN '35 - 44'\n",
    "             WHEN age BETWEEN 45 and 54 THEN '45 - 54'\n",
    "             WHEN age BETWEEN 55 and 64 THEN '55 - 64'\n",
    "             ELSE '65+' END) AS age_groups,\n",
    "        COUNT (*) AS ct_customers,\n",
    "        SUM(n_purchases) AS total_purchases,\n",
    "        ROUND(SUM(revenue_total),2) AS total_revenue,\n",
    "        ROUND((SUM(revenue_total) * 100 / (SELECT SUM(revenue_total) FROM online_sales)), 2) AS perc_revenue\n",
    "    FROM online_sales\n",
    "    GROUP BY gender, age_groups \n",
    "    ORDER BY total_revenue DESC;\n",
    "\"\"\"\n",
    "result = pd.read_sql_query(query, conn)\n",
    "print(tabulate(result, headers='keys', tablefmt='psql', showindex=False))"
   ]
  },
  {
   "cell_type": "code",
   "execution_count": 73,
   "id": "a22209bb",
   "metadata": {},
   "outputs": [
    {
     "data": {
      "image/png": "[encoded data removed]",
      "text/plain": [
       "<Figure size 600x400 with 1 Axes>"
      ]
     },
     "metadata": {},
     "output_type": "display_data"
    }
   ],
   "source": [
    "conn = sqlite3.connect('online_sales.db')\n",
    "query = \"\"\"\n",
    "    SELECT \n",
    "        gender,\n",
    "        (CASE \n",
    "             WHEN age BETWEEN 16 and 24 THEN '16 - 24'\n",
    "             WHEN age BETWEEN 25 and 34 THEN '25 - 34'\n",
    "             WHEN age BETWEEN 35 and 44 THEN '35 - 44'\n",
    "             WHEN age BETWEEN 45 and 54 THEN '45 - 54'\n",
    "             WHEN age BETWEEN 55 and 64 THEN '55 - 64'\n",
    "             ELSE '65+' END) AS age_groups,\n",
    "        ROUND((SUM(revenue_total) * 100 / (SELECT SUM(revenue_total) FROM online_sales)), 2) AS perc_revenue\n",
    "    FROM online_sales\n",
    "    GROUP BY gender, age_groups\n",
    "    ORDER BY perc_revenue DESC;\n",
    "\"\"\"\n",
    "result = pd.read_sql_query(query, conn)\n",
    "\n",
    "plt.figure(figsize=(6, 4))\n",
    "labels = result['gender'] + ' (' + result['age_groups'] + ')'\n",
    "values = result['perc_revenue']\n",
    "colors=['#fe938c', '#edaf97', '#c49792', '#ad91a3']\n",
    "\n",
    "plt.bar(labels, values, color=colors)\n",
    "plt.title('Women Between 45 and 54 are the Top Customer Segment at Et Femme', fontsize=12)\n",
    "plt.xlabel('Customer Segment', fontsize=10)\n",
    "plt.ylabel('Percentage of Total Revenue', fontsize=10)\n",
    "plt.xticks(rotation=45, fontsize=8)\n",
    "\n",
    "plt.tight_layout()"
   ]
  },
  {
   "cell_type": "markdown",
   "id": "4e9e6660",
   "metadata": {},
   "source": [
    "<font size=\"3\">Check that total customers are the same as number of records.</font>"
   ]
  },
  {
   "cell_type": "code",
   "execution_count": 77,
   "id": "f41f5673",
   "metadata": {},
   "outputs": [
    {
     "name": "stdout",
     "output_type": "stream",
     "text": [
      "+-------------------+----------------+\n",
      "|   total_customers |   record_count |\n",
      "|-------------------+----------------|\n",
      "|             65796 |          65796 |\n",
      "+-------------------+----------------+\n"
     ]
    }
   ],
   "source": [
    "conn = sqlite3.connect('online_sales.db')\n",
    "query = \"\"\"\n",
    "    WITH customer_segments AS (\n",
    "    SELECT \n",
    "        gender,\n",
    "        (CASE \n",
    "             WHEN age BETWEEN 16 and 24 THEN '16 - 24'\n",
    "             WHEN age BETWEEN 25 and 34 THEN '25 - 34'\n",
    "             WHEN age BETWEEN 35 and 44 THEN '35 - 44'\n",
    "             WHEN age BETWEEN 45 and 54 THEN '45 - 54'\n",
    "             WHEN age BETWEEN 55 and 64 THEN '55 - 64'\n",
    "             ELSE '65+' END) AS age_groups,\n",
    "        COUNT (*) AS number_customers,\n",
    "        SUM(n_purchases) AS total_purchases,\n",
    "        ROUND(SUM(revenue_total), 2) AS total_revenue\n",
    "    FROM online_sales\n",
    "    GROUP BY gender, age_groups \n",
    "    ORDER BY total_revenue DESC)\n",
    "\n",
    "    SELECT\n",
    "        SUM(number_customers) AS total_customers,\n",
    "        (SELECT COUNT(*) FROM online_sales) AS record_count\n",
    "    FROM \n",
    "        customer_segments;\n",
    "\"\"\"\n",
    "result = pd.read_sql_query(query, conn)\n",
    "print(tabulate(result, headers='keys', tablefmt='psql', showindex=False))"
   ]
  },
  {
   "cell_type": "markdown",
   "id": "62978576-e7fa-4b27-9611-1cfeb76fac52",
   "metadata": {},
   "source": [
    "<font size=\"6\"> Question 3 </font>\n",
    "<br>\n",
    "<font size=\"3\">**Which customer segments are most likely subscribed to the newsletter?**</font>\n",
    "<br>\n",
    "<font size=\"3\">**Women aged 45-54 are most likely to subscribe** to the newsletter followed by women of ages 25-34, then 35-44 are . **Men 16-24 are least likely** to subscribe.</font>"
   ]
  },
  {
   "cell_type": "code",
   "execution_count": 78,
   "id": "0c61ce72",
   "metadata": {},
   "outputs": [
    {
     "name": "stdout",
     "output_type": "stream",
     "text": [
      "+----------+--------------+--------------------------+\n",
      "| gender   | age_groups   |   newsletter_subscribers |\n",
      "|----------+--------------+--------------------------|\n",
      "| Female   | 45 - 54      |                     1467 |\n",
      "| Female   | 25 - 34      |                     1408 |\n",
      "| Female   | 35 - 44      |                     1314 |\n",
      "| Female   | 55 - 64      |                     1246 |\n",
      "| Female   | 16 - 24      |                     1222 |\n",
      "| Male     | 35 - 44      |                      707 |\n",
      "| Male     | 45 - 54      |                      701 |\n",
      "| Male     | 25 - 34      |                      666 |\n",
      "| Male     | 55 - 64      |                      616 |\n",
      "| Male     | 16 - 24      |                      590 |\n",
      "+----------+--------------+--------------------------+\n"
     ]
    }
   ],
   "source": [
    "#Segment customers who subscribe to the Et Femme newsletter by age and gender \n",
    "conn = sqlite3.connect('online_sales.db')\n",
    "query = \"\"\"\n",
    "    SELECT\n",
    "        gender,\n",
    "        (CASE \n",
    "             WHEN age BETWEEN 16 and 24 THEN '16 - 24'\n",
    "             WHEN age BETWEEN 25 and 34 THEN '25 - 34'\n",
    "             WHEN age BETWEEN 35 and 44 THEN '35 - 44'\n",
    "             WHEN age BETWEEN 45 and 54 THEN '45 - 54'\n",
    "             WHEN age BETWEEN 55 and 64 THEN '55 - 64'\n",
    "             ELSE '65+' END) AS age_groups,\n",
    "        COUNT(*) AS newsletter_subscribers\n",
    "    FROM\n",
    "        online_sales\n",
    "    WHERE newsletter = 'subscribed'\n",
    "    GROUP BY gender, age_groups\n",
    "    ORDER BY newsletter_subscribers DESC;\n",
    "\"\"\"\n",
    "result = pd.read_sql_query(query, conn)\n",
    "print(tabulate(result, headers='keys', tablefmt='psql', showindex=False))"
   ]
  },
  {
   "cell_type": "code",
   "execution_count": 71,
   "id": "fed91abc",
   "metadata": {},
   "outputs": [
    {
     "data": {
      "image/png": "[encoded data removed]",
      "text/plain": [
       "<Figure size 720x432 with 1 Axes>"
      ]
     },
     "metadata": {
      "needs_background": "light"
     },
     "output_type": "display_data"
    }
   ],
   "source": [
    "conn = sqlite3.connect('online_sales.db')\n",
    "query = \"\"\"\n",
    "    SELECT\n",
    "        gender,\n",
    "        (CASE \n",
    "             WHEN age BETWEEN 16 and 24 THEN '16 - 24'\n",
    "             WHEN age BETWEEN 25 and 34 THEN '25 - 34'\n",
    "             WHEN age BETWEEN 35 and 44 THEN '35 - 44'\n",
    "             WHEN age BETWEEN 45 and 54 THEN '45 - 54'\n",
    "             WHEN age BETWEEN 55 and 64 THEN '55 - 64'\n",
    "             ELSE '65+' END) AS age_groups,\n",
    "        COUNT(*) AS newsletter_subscribers\n",
    "    FROM online_sales\n",
    "    WHERE newsletter = \"subscribed\"\n",
    "    GROUP BY gender, age_groups\n",
    "    ORDER BY newsletter_subscribers DESC;\n",
    "\"\"\"\n",
    "result = pd.read_sql_query(query, conn)\n",
    "\n",
    "plt.figure(figsize=(10, 6))\n",
    "labels = result['gender'] + ' (' + result['age_groups'] + ')'\n",
    "values = result['newsletter_subscribers']\n",
    "colors=['#fe938c', '#edaf97', '#c49792', '#ad91a3']\n",
    "\n",
    "plt.bar(labels, values, color=colors)\n",
    "plt.title('Women are More Likely to Subscribe to the Et Femme Newsletter', fontsize=16)\n",
    "plt.xlabel('Customer Segment', fontsize=14)\n",
    "plt.ylabel('Number of Newsletter Subscribers', fontsize=14)\n",
    "plt.xticks(rotation=45, fontsize=12)\n",
    "\n",
    "plt.tight_layout()"
   ]
  },
  {
   "cell_type": "markdown",
   "id": "93a1f546-01ff-4f35-adb2-ada5bee28055",
   "metadata": {},
   "source": [
    "<font size=\"6\">Conclusion and Recommendations</font>\n",
    "<br>\n",
    "<font size=\"3\">Et Femme has brought in **\\$1.9M  in total sales revenue** since opening in 2021. It experiences a **consistent** revenue stream of about **\\$160,000  on average month over month** wtih slight pick-ups in **January, December, and October**. Et Femme should  *optimize stocking practices to account for this uptick during those months*. Et Femme caters largely to **women**, who make up **67%** of their customer base. Women aged aged **25-54** comprise its top three customer segments with **women aged 45-54 being its top segment**, both in **revenue and newsletter subscribers**. Et Femme's marketing department should *use most of its advertising budget catering to women aged 45-54*. The client's marketing department should *focus its newletter content toward this demographic* as well and leverage this customer base to *make strategic partnerships with companies who share similar demographic bases*.</font>"
   ]
  },
  {
   "cell_type": "markdown",
   "id": "db1ecb67",
   "metadata": {},
   "source": [
    "<font size=\"2\">All data for this project was acquired through Kaggle's Database \"Online Shop Customer Sales Data\"</font>"
   ]
  }
 ],
 "metadata": {
  "kernelspec": {
   "display_name": "Python 3 (ipykernel)",
   "language": "python",
   "name": "python3"
  },
  "language_info": {
   "codemirror_mode": {
    "name": "ipython",
    "version": 3
   },
   "file_extension": ".py",
   "mimetype": "text/x-python",
   "name": "python",
   "nbconvert_exporter": "python",
   "pygments_lexer": "ipython3",
   "version": "3.9.18"
  }
 },
 "nbformat": 4,
 "nbformat_minor": 5
}
